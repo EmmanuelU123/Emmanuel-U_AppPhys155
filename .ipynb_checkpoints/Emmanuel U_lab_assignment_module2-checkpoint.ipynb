{
 "cells": [
  {
   "cell_type": "markdown",
   "metadata": {
    "id": "G0BcK0H_G1Iu"
   },
   "source": [
    "# **AP155 Lab Assignment**\n",
    "## Module 2: Solution of Linear and Nonlinear Equations\n",
    "\n",
    "_Instructions_: Answer each problem as completely as you can. Discuss **all** your answers as clearly and concisely as possible.\n",
    "\n",
    "_Scoring Criteria_: 50% - *correctness of code*; 50% - *discussion of the code and results*. Maximum score is **100 points**.\n",
    "\n"
   ]
  },
  {
   "cell_type": "markdown",
   "metadata": {
    "id": "PeHZ9kP8JaVR"
   },
   "source": [
    "### Student Information\n",
    "\n",
    "_Full Name (Last Name, First Name)_: U, Emmanuel\\\n",
    "_Student No._: 2020-11017\\\n",
    "_Section_: THU-HX-1"
   ]
  },
  {
   "cell_type": "markdown",
   "metadata": {
    "id": "Hc183co-J4eI"
   },
   "source": [
    "### Submission Information\n",
    "\n",
    "_Date and Time Submitted (most recent upload)_:\n",
    "\n",
    "**HONOR PLEDGE** I affirm that I have upheld the highest principles of honesty and integrity in my academic work and that this lab assignment is my own work.\n",
    "\n",
    "**Sign here with your full name:**"
   ]
  },
  {
   "cell_type": "markdown",
   "metadata": {
    "id": "4LUwfsfMBmvd"
   },
   "source": [
    "### Grading Information (c/o Lab Instructor)\n",
    "\n",
    "TOTAL SCORE: **92**/100\n",
    "\n",
    "Score breakdown:\n",
    "* Problem 1 - 26/30\n",
    "* Problem 2 - 28/30\n",
    "* Problem 3 - 38/40\n",
    "\n"
   ]
  },
  {
   "cell_type": "markdown",
   "metadata": {},
   "source": []
  },
  {
   "cell_type": "markdown",
   "metadata": {
    "id": "kBX9EyMLOnXj"
   },
   "source": [
    "### PROBLEM 1\n",
    "\n",
    "**Solve for eigenvalues and eigenvectors of a symmetric matrix**\n",
    "\n",
    "1. Use numpy's $\\tt linalg$ package to find the eigenvalues and eigenvectors of the ff. symmetrix matrix *(15 pts.)*:\n",
    "\n",
    "$ \\begin{equation}\n",
    "{\\bf A} =\n",
    "\\begin{pmatrix}\n",
    "8 & -2 & -20 \\\\\n",
    "-2 & -3 & -9 \\\\\n",
    "-20 & -9 & -3\n",
    "\\end{pmatrix} \\end{equation} $\n",
    "\n",
    "2. Check your answer numerically; that is, check that $\\bf AV = VD$, where the $N$ x $N$ matrix $\\bf V$ has the eigenvectors as its columns and $\\bf D$ is the diagonal matrix with the eigenvalues $\\lambda_i$ as its diagonal entries. *(15 pts.)*"
   ]
  },
  {
   "cell_type": "code",
   "execution_count": 17,
   "metadata": {
    "id": "GABjwlXCR97i"
   },
   "outputs": [
    {
     "name": "stdout",
     "output_type": "stream",
     "text": [
      "A: [[  8  -2 -20]\n",
      " [ -2  -3  -9]\n",
      " [-20  -9  -3]]\n",
      "Eigenvalues:  λ_0 = -21.996061954235405 λ_1 = 23.83584673530734 λ_2 = 0.1602152189280608 \n",
      "Eigenvectors:  v_0 = [[0.52496527 0.40892672 0.74645187]] v_1 = [[ 0.76748685  0.15169114 -0.62285932]] v_2 = [[ 0.36793396 -0.89987151  0.2342133 ]] "
     ]
    }
   ],
   "source": [
    "# Number 1\n",
    "\n",
    "import numpy as np # We import numpy since it has the linalg package, as well as other packages that we will use later on.\n",
    "\n",
    "A = np.mat(\"8 -2 -20; -2 -3 -9; -20 -9 -3\") # We define the matrix A so that we may refer to it later.\n",
    "\n",
    "def eigenvecval(A, n): # We define a function eigenvecval that takes a matrix symmetric matrix A of size n as an input, and neatly gives us the eigenvectors and eigenvalues.\n",
    "    print(\"A: \" + str(A)) # We print the matrix A to confirm whether we have inputted the matrix correctly.\n",
    "    eigenvectors = np.linalg.eig(A) # We use the np.linalg.eig() function to find the eigenvalues and eigenvectors of the matrix A.\n",
    "                                    # The eigenvalues of A are stored in eigenvectors[0], and the matrix of eigenvectors are stored in eigenvectors[1].\n",
    "    \n",
    "    print(\"Eigenvalues: \", end = \" \")\n",
    "    for i in range(n):\n",
    "        print(\"λ_\" + str(i) + \" = \" + str(eigenvectors[0][i]), end = \" \") # We print the eigenvalues seperately.\n",
    "        \n",
    "    print()\n",
    "    print(\"Eigenvectors: \", end = \" \")\n",
    "    for i in range(n):\n",
    "       print(\"v_\" + str(i) + \" = \" + str(np.ndarray.transpose(eigenvectors[1])[i]), end = \" \") # We pring the eigenvectors seperately by extracting them from the eigenvalue matrix.\n",
    "       \n",
    "eigenvecval(A, 3) # We run the function for n = 3 to give us the eigenvalues and eigenvectors of A."
   ]
  },
  {
   "cell_type": "code",
   "execution_count": 26,
   "metadata": {},
   "outputs": [
    {
     "name": "stdout",
     "output_type": "stream",
     "text": [
      "AV = [[-11.54716868  18.29369893   0.05894862]\n",
      " [ -8.99477756   3.61568676  -0.14417311]\n",
      " [-16.4190016  -14.8463793    0.03752454]]\n",
      "VD = [[-11.54716868  18.29369893   0.05894862]\n",
      " [ -8.99477756   3.61568676  -0.14417311]\n",
      " [-16.4190016  -14.8463793    0.03752454]]\n",
      "Since AV = VD, we confirm that our eigenvalues and eigenvectors are correct.\n"
     ]
    }
   ],
   "source": [
    "# Number 2\n",
    "\n",
    "V = np.linalg.eig(A) # We again construct the eigenvalue and eigenvector matrix of A, this time labelling it V instead of eigenvectors for convenience.\n",
    "D = np.mat(\"-21.996061954235405 0 0; 0 23.83584673530734 0; 0 0 0.1602152189280608\") # We define the matrix D with diagonal elements λ_i.\n",
    "\n",
    "print(\"AV = \" + str(np.matmul(A, V[1]))) # We compute the product AV using the np.matmul() function.\n",
    "print(\"VD = \" + str(np.matmul(V[1], D))) # We compute the product VD.\n",
    "print(\"Since AV = VD, we confirm that our eigenvalues and eigenvectors are correct.\")"
   ]
  },
  {
   "cell_type": "markdown",
   "metadata": {},
   "source": [
    "----------------\n",
    "### Instructor Notes\n",
    "\n",
    "Check AV-VD and you'll see that the difference is not entirely zero. It's in the order 10^-15.\n",
    "You could've elaborated more on this computational limitation. Refer to Module 0."
   ]
  },
  {
   "cell_type": "markdown",
   "metadata": {
    "id": "HceOjNu-VfN9"
   },
   "source": [
    "### PROBLEM 2\n",
    "\n",
    "**Solve a nonlinear equation using the relaxation method**\n",
    "\n",
    "Consider the equation $x=1- e^{-cx}$, where $c$ is a known parameter and $x$ is unknown. This equation arises in a variety of situations, including the physics of contact processes, mathematical models of epidemics, and the theory of random graphs.\n",
    "\n",
    "1. Write a program to solve this equation for $x$ using the relaxation method for the case $c = 2$. Calculate your solution to an accuracy of at least $10^{-6}$. *(10 pts.)*\n",
    "\n",
    "2. Modify your program to calculate the solution for values of $c$ from 0 to 3 in steps of 0.01. *(10 pts.)*\n",
    "\n",
    "3. Make a plot of $x$ as a function of $c$. Describe the different regimes that you see. *(10 pts.)*"
   ]
  },
  {
   "cell_type": "code",
   "execution_count": 3,
   "metadata": {
    "id": "p28JF-OQYock"
   },
   "outputs": [
    {
     "data": {
      "text/plain": [
       "0.7968126311118457"
      ]
     },
     "execution_count": 3,
     "metadata": {},
     "output_type": "execute_result"
    }
   ],
   "source": [
    "# Number 1\n",
    "\n",
    "import numpy as np # We import the packages that we will need for this problem.\n",
    "import math\n",
    "\n",
    "# Definition of variables\n",
    "\n",
    "c = 2 # c is the factor of x in the exponential term.\n",
    "x_0 = 1 # x_0 is the starting point (guess).\n",
    "n = 14 # n is the amount of times the relaxation is repeated.\n",
    "\n",
    "def relaxmethod(c, x_0, n): # We define a function relaxmethod that solves the given equation for a specific value of c, x_0, and n.\n",
    "    \n",
    "    testpoints = [] # We set up an empty array so that we may use it store the iterations of relaxmethod. We will use this to check our accuracy later on.\n",
    "    \n",
    "    def f(x): # We define the given function.\n",
    "        return 1 - np.exp(-c*x)\n",
    "    \n",
    "    for i in range(n): # We set up a for loop to run the relaxation method n times.\n",
    "        testpoints.append(x_0) # We append our array to store the value of each iteration.\n",
    "        x_0 = f(x_0) # From the definition of the relaxation method, after each trial we use the result as the new test point x_0.\n",
    "        \n",
    "        cond = abs(x_0 - testpoints[-1]) < 10**(-6) # We set up the condition to check if the solution is accurate up to 10^(-6).\n",
    "        if cond: # If the condition for accuracy is met, then we return the value of x.\n",
    "            return(x_0)\n",
    "    else: # If the condition for accuracy is not met, then the function returns \"The value did not converge\".\n",
    "        return(\"The value did not converge.\")\n",
    "\n",
    "relaxmethod(2, x_0, n)"
   ]
  },
  {
   "cell_type": "code",
   "execution_count": 2,
   "metadata": {},
   "outputs": [
    {
     "name": "stdout",
     "output_type": "stream",
     "text": [
      "For c = 0.0, x =  0.0\n",
      "For c = 0.01, x =  9.949666313069372e-09\n",
      "For c = 0.02, x =  3.167572204532121e-09\n",
      "For c = 0.03, x =  2.3928180437060576e-08\n",
      "For c = 0.04, x =  4.0118833810609544e-09\n",
      "For c = 0.05, x =  1.5221261806530606e-08\n",
      "For c = 0.06, x =  4.519984508899455e-08\n",
      "For c = 0.07, x =  7.933598999976255e-09\n",
      "For c = 0.08, x =  2.0087377317068444e-08\n",
      "For c = 0.09, x =  4.55464150839191e-08\n",
      "For c = 0.1, x =  9.466140404867929e-08\n",
      "For c = 0.11, x =  2.0168925085606304e-08\n",
      "For c = 0.12, x =  4.0207825069416003e-08\n",
      "For c = 0.13, x =  7.580131200501938e-08\n",
      "For c = 0.14, x =  1.3626123773757826e-07\n",
      "For c = 0.15, x =  3.526429526168329e-08\n",
      "For c = 0.16, x =  6.261899121451364e-08\n",
      "For c = 0.17, x =  1.0733074018443034e-07\n",
      "For c = 0.18, x =  1.7829450504880384e-07\n",
      "For c = 0.19, x =  5.4722460451905874e-08\n",
      "For c = 0.2, x =  9.074338691572592e-08\n",
      "For c = 0.21, x =  1.4673481119054088e-07\n",
      "For c = 0.22, x =  2.3191585440951457e-07\n",
      "For c = 0.23, x =  8.256764227887459e-08\n",
      "For c = 0.24, x =  1.308465908955725e-07\n",
      "For c = 0.25, x =  2.0339823914028443e-07\n",
      "For c = 0.26, x =  3.1060878702415806e-07\n",
      "For c = 0.27, x =  1.2597996101870734e-07\n",
      "For c = 0.28, x =  1.9328124800654933e-07\n",
      "For c = 0.29, x =  2.919792285727141e-07\n",
      "For c = 0.3, x =  1.3042425250908707e-07\n",
      "For c = 0.31, x =  1.979754600256456e-07\n",
      "For c = 0.32, x =  2.9641844967454034e-07\n",
      "For c = 0.33, x =  4.381263097874566e-07\n",
      "For c = 0.34, x =  2.1752009093933822e-07\n",
      "For c = 0.35, x =  3.232472131076136e-07\n",
      "For c = 0.36, x =  4.7480269105282247e-07\n",
      "For c = 0.37, x =  2.5521451374466153e-07\n",
      "For c = 0.38, x =  3.7682277465034275e-07\n",
      "For c = 0.39, x =  5.504970940206633e-07\n",
      "For c = 0.4, x =  3.184520659393897e-07\n",
      "For c = 0.41, x =  4.675372942131162e-07\n",
      "For c = 0.42, x =  6.79738326736512e-07\n",
      "For c = 0.43, x =  4.209975295044188e-07\n",
      "For c = 0.44, x =  6.149701722302225e-07\n",
      "For c = 0.45, x =  4.0059175665518865e-07\n",
      "For c = 0.46, x =  5.876338874388765e-07\n",
      "For c = 0.47, x =  8.544413723221567e-07\n",
      "For c = 0.48, x =  5.913161912340925e-07\n",
      "For c = 0.49, x =  8.632415003928529e-07\n",
      "For c = 0.5, x =  6.249227889609799e-07\n",
      "For c = 0.51, x =  9.155712910047242e-07\n",
      "For c = 0.52, x =  6.919220807422022e-07\n",
      "For c = 0.53, x =  1.016968841249799e-06\n",
      "For c = 0.54, x =  8.00803087508406e-07\n",
      "For c = 0.55, x =  1.1803321448011772e-06\n",
      "For c = 0.56, x =  9.667544111913173e-07\n",
      "For c = 0.57, x =  8.14235212365233e-07\n",
      "For c = 0.58, x =  1.2149895063373606e-06\n",
      "For c = 0.59, x =  1.0615069597763593e-06\n",
      "For c = 0.6, x =  9.520070570756545e-07\n",
      "For c = 0.61, x =  1.4358845431550193e-06\n",
      "For c = 0.62, x =  1.332578761448211e-06\n",
      "For c = 0.63, x =  1.2675035762077513e-06\n",
      "For c = 0.64, x =  1.2349148865720139e-06\n",
      "For c = 0.65, x =  1.2317225677183075e-06\n",
      "For c = 0.66, x =  1.904569904565001e-06\n",
      "For c = 0.67, x =  1.958014561376231e-06\n",
      "For c = 0.68, x =  2.0579279373933446e-06\n",
      "For c = 0.69, x =  2.2101330848789402e-06\n",
      "For c = 0.7, x =  1.696922040550497e-06\n",
      "For c = 0.71, x =  1.9271389595232336e-06\n",
      "For c = 0.72, x =  2.2326156127183694e-06\n",
      "For c = 0.73, x =  2.637305570929449e-06\n",
      "For c = 0.74, x =  2.3495305866427785e-06\n",
      "For c = 0.75, x =  2.920390712923826e-06\n",
      "For c = 0.76, x =  2.808505052964705e-06\n",
      "For c = 0.77, x =  2.8211298193081547e-06\n",
      "For c = 0.78, x =  2.957057370078786e-06\n",
      "For c = 0.79, x =  3.2311952832264623e-06\n",
      "For c = 0.8, x =  3.6771539283497745e-06\n",
      "For c = 0.81, x =  3.5266781818199533e-06\n",
      "For c = 0.82, x =  4.393956247628061e-06\n",
      "For c = 0.83, x =  4.717479255567092e-06\n",
      "For c = 0.84, x =  4.519379029788162e-06\n",
      "For c = 0.85, x =  5.532036319144673e-06\n",
      "For c = 0.86, x =  5.3029429625262026e-06\n",
      "For c = 0.87, x =  6.468795173075748e-06\n",
      "For c = 0.88, x =  6.595351969562735e-06\n",
      "For c = 0.89, x =  7.575409970317359e-06\n",
      "For c = 0.9, x =  8.792436594129427e-06\n",
      "For c = 0.91, x =  9.664268095899153e-06\n",
      "For c = 0.92, x =  1.0691794439132707e-05\n",
      "For c = 0.93, x =  1.262476683250302e-05\n",
      "For c = 0.94, x =  1.4865437566013995e-05\n",
      "For c = 0.95, x =  1.861022175886351e-05\n",
      "For c = 0.96, x =  2.3214026797613307e-05\n",
      "For c = 0.97, x =  3.181742684477129e-05\n",
      "For c = 0.98, x =  4.818452768706738e-05\n",
      "For c = 0.99, x =  9.767514814207345e-05\n",
      "For c = 1.0, x =  0.0014132112807466735\n",
      "For c = 1.01, x =  0.01983497128579359\n",
      "For c = 1.02, x =  0.039006666441808946\n",
      "For c = 1.03, x =  0.05771347421985629\n",
      "For c = 1.04, x =  0.07594794789028791\n",
      "For c = 1.05, x =  0.09372146423619454\n",
      "For c = 1.06, x =  0.11104626083824543\n",
      "For c = 1.07, x =  0.12793682616951985\n",
      "For c = 1.08, x =  0.14440795750954538\n",
      "For c = 1.09, x =  0.1604728910287362\n",
      "For c = 1.1, x =  0.17614297967899373\n",
      "For c = 1.11, x =  0.19143293152873353\n",
      "For c = 1.12, x =  0.20635260162884306\n",
      "For c = 1.13, x =  0.22091419230190568\n",
      "For c = 1.14, x =  0.2351294944999509\n",
      "For c = 1.15, x =  0.24900813864898141\n",
      "For c = 1.16, x =  0.2625603013362784\n",
      "For c = 1.17, x =  0.27579745430296654\n",
      "For c = 1.18, x =  0.2887273271155236\n",
      "For c = 1.19, x =  0.30135899574674907\n",
      "For c = 1.2, x =  0.3137029199038255\n",
      "For c = 1.21, x =  0.32576583440564466\n",
      "For c = 1.22, x =  0.33755673041787504\n",
      "For c = 1.23, x =  0.34908344559859883\n",
      "For c = 1.24, x =  0.3603527367172037\n",
      "For c = 1.25, x =  0.3713734787054631\n",
      "For c = 1.26, x =  0.3821511799898024\n",
      "For c = 1.27, x =  0.39269412566440876\n",
      "For c = 1.28, x =  0.4030073778837189\n",
      "For c = 1.29, x =  0.41309803941174916\n",
      "For c = 1.3, x =  0.4229722146380557\n",
      "For c = 1.31, x =  0.43263653510178335\n",
      "For c = 1.32, x =  0.4420952337229602\n",
      "For c = 1.33, x =  0.45135457881243923\n",
      "For c = 1.34, x =  0.46041916428474283\n",
      "For c = 1.35, x =  0.46929559896976103\n",
      "For c = 1.36, x =  0.4779881493274428\n",
      "For c = 1.37, x =  0.48650164448400846\n",
      "For c = 1.38, x =  0.4948407590257551\n",
      "For c = 1.39, x =  0.5030092810548015\n",
      "For c = 1.4, x =  0.5110129810369295\n",
      "For c = 1.41, x =  0.5188554349045833\n",
      "For c = 1.42, x =  0.5265400131044513\n",
      "For c = 1.43, x =  0.5340720643517611\n",
      "For c = 1.44, x =  0.5414541184605426\n",
      "For c = 1.45, x =  0.5486911637152101\n",
      "For c = 1.46, x =  0.5557855892396384\n",
      "For c = 1.47, x =  0.5627420907457077\n",
      "For c = 1.48, x =  0.5695628868597978\n",
      "For c = 1.49, x =  0.5762524400692145\n",
      "For c = 1.5, x =  0.5828127722611349\n",
      "For c = 1.51, x =  0.5892481683137523\n",
      "For c = 1.52, x =  0.5955604263601366\n",
      "For c = 1.53, x =  0.6017537099375689\n",
      "For c = 1.54, x =  0.6078295613697207\n",
      "For c = 1.55, x =  0.6137914347608274\n",
      "For c = 1.56, x =  0.6196425237927947\n",
      "For c = 1.57, x =  0.6253842497246467\n",
      "For c = 1.58, x =  0.6310197709645288\n",
      "For c = 1.59, x =  0.6365520396847129\n",
      "For c = 1.6, x =  0.6419823130624935\n",
      "For c = 1.61, x =  0.6473135128901366\n",
      "For c = 1.62, x =  0.6525483977144091\n",
      "For c = 1.63, x =  0.657688023029795\n",
      "For c = 1.64, x =  0.6627351260055693\n",
      "For c = 1.65, x =  0.667691765938602\n",
      "For c = 1.66, x =  0.6725604120720212\n",
      "For c = 1.67, x =  0.6773420105657495\n",
      "For c = 1.68, x =  0.6820390094774167\n",
      "For c = 1.69, x =  0.6866537800674015\n",
      "For c = 1.7, x =  0.6911869889791763\n",
      "For c = 1.71, x =  0.6956410022716579\n",
      "For c = 1.72, x =  0.7000175219206164\n",
      "For c = 1.73, x =  0.7043182056740429\n",
      "For c = 1.74, x =  0.7085451270891339\n",
      "For c = 1.75, x =  0.7126988761283186\n",
      "For c = 1.76, x =  0.7167815193772842\n",
      "For c = 1.77, x =  0.7207945490019465\n",
      "For c = 1.78, x =  0.7247394192898922\n",
      "For c = 1.79, x =  0.7286179832901194\n",
      "For c = 1.8, x =  0.7324306924182675\n",
      "For c = 1.81, x =  0.7361793967197962\n",
      "For c = 1.82, x =  0.7398654085850596\n",
      "For c = 1.83, x =  0.7434900078735308\n",
      "For c = 1.84, x =  0.7470548926718179\n",
      "For c = 1.85, x =  0.7505603228518162\n",
      "For c = 1.86, x =  0.754008001482218\n",
      "For c = 1.87, x =  0.7573990863735772\n",
      "For c = 1.88, x =  0.7607347073134989\n",
      "For c = 1.89, x =  0.764015966851256\n",
      "For c = 1.9, x =  0.7672439410598418\n",
      "For c = 1.91, x =  0.7704200699986695\n",
      "For c = 1.92, x =  0.7735445520529282\n",
      "For c = 1.93, x =  0.7766188312036229\n",
      "For c = 1.94, x =  0.7796438841008001\n",
      "For c = 1.95, x =  0.7826206644882809\n",
      "For c = 1.96, x =  0.7855501038289336\n",
      "For c = 1.97, x =  0.7884331119117864\n",
      "For c = 1.98, x =  0.7912709569088037\n",
      "For c = 1.99, x =  0.7940637045859422\n",
      "For c = 2.0, x =  0.7968126311118457\n",
      "For c = 2.01, x =  0.799518564734577\n",
      "For c = 2.02, x =  0.8021823148703583\n",
      "For c = 2.03, x =  0.8048046726031729\n",
      "For c = 2.04, x =  0.8073864111700115\n",
      "For c = 2.05, x =  0.809928286432112\n",
      "For c = 2.06, x =  0.8124314079129915\n",
      "For c = 2.07, x =  0.8148957171432502\n",
      "For c = 2.08, x =  0.817322335170092\n",
      "For c = 2.09, x =  0.819711952340858\n",
      "For c = 2.1, x =  0.8220652438342346\n",
      "For c = 2.11, x =  0.8243828700497896\n",
      "For c = 2.12, x =  0.8266654769865223\n",
      "For c = 2.13, x =  0.8289136966107129\n",
      "For c = 2.14, x =  0.8311281472133563\n",
      "For c = 2.15, x =  0.8333094337574589\n",
      "For c = 2.16, x =  0.8354584828669274\n",
      "For c = 2.17, x =  0.8375751710661997\n",
      "For c = 2.18, x =  0.8396604367995143\n",
      "For c = 2.19, x =  0.841714834664573\n",
      "For c = 2.2, x =  0.8437389075583561\n",
      "For c = 2.21, x =  0.8457331869660756\n",
      "For c = 2.22, x =  0.8476981932421875\n",
      "For c = 2.23, x =  0.8496344358836742\n",
      "For c = 2.24, x =  0.8515424137958099\n",
      "For c = 2.25, x =  0.8534226155506188\n",
      "For c = 2.26, x =  0.855275519638229\n",
      "For c = 2.27, x =  0.8571019179471151\n",
      "For c = 2.28, x =  0.8589015930852609\n",
      "For c = 2.29, x =  0.8606753507214422\n",
      "For c = 2.3, x =  0.8624236311402088\n",
      "For c = 2.31, x =  0.8641468657249218\n",
      "For c = 2.32, x =  0.8658454771683799\n",
      "For c = 2.33, x =  0.8675198796778563\n",
      "For c = 2.34, x =  0.8691704791746921\n",
      "For c = 2.35, x =  0.8707976734886012\n",
      "For c = 2.36, x =  0.8724018525468232\n",
      "For c = 2.37, x =  0.8739833985582781\n",
      "For c = 2.38, x =  0.8755426861928512\n",
      "For c = 2.39, x =  0.8770800827559534\n",
      "For c = 2.4, x =  0.8785959483584812\n",
      "For c = 2.41, x =  0.8800909221034469\n",
      "For c = 2.42, x =  0.8815647537349733\n",
      "For c = 2.43, x =  0.883018095287851\n",
      "For c = 2.44, x =  0.8844512795298198\n",
      "For c = 2.45, x =  0.8858646328344308\n",
      "For c = 2.46, x =  0.887258475324761\n",
      "For c = 2.47, x =  0.8886331210134752\n",
      "For c = 2.48, x =  0.8899888779393349\n",
      "For c = 2.49, x =  0.8913260483002481\n",
      "For c = 2.5, x =  0.8926449285829544\n",
      "For c = 2.51, x =  0.8939458096894362\n",
      "For c = 2.52, x =  0.8952289770601447\n",
      "For c = 2.53, x =  0.896494710794127\n",
      "For c = 2.54, x =  0.8977432857661402\n",
      "For c = 2.55, x =  0.8989749717408313\n",
      "For c = 2.56, x =  0.9001900334840671\n",
      "For c = 2.57, x =  0.9013887308714885\n",
      "For c = 2.58, x =  0.9025715680245608\n",
      "For c = 2.59, x =  0.9037382778496279\n",
      "For c = 2.6, x =  0.9048893761654379\n",
      "For c = 2.61, x =  0.9060251042015094\n",
      "For c = 2.62, x =  0.9071456988100189\n",
      "For c = 2.63, x =  0.9082513925585195\n",
      "For c = 2.64, x =  0.9093424138204306\n",
      "For c = 2.65, x =  0.9104189868633514\n",
      "For c = 2.66, x =  0.911481331935259\n",
      "For c = 2.67, x =  0.9125296653486432\n",
      "For c = 2.68, x =  0.9135641995626328\n",
      "For c = 2.69, x =  0.9145851432631663\n",
      "For c = 2.7, x =  0.9155927014412574\n",
      "For c = 2.71, x =  0.9165870754694037\n",
      "For c = 2.72, x =  0.9175684631761901\n",
      "For c = 2.73, x =  0.9185370589191305\n",
      "For c = 2.74, x =  0.9194930536557954\n",
      "For c = 2.75, x =  0.9204366350132698\n",
      "For c = 2.76, x =  0.9213679873559849\n",
      "For c = 2.77, x =  0.9222872918519653\n",
      "For c = 2.78, x =  0.9231947265375324\n",
      "For c = 2.79, x =  0.9240904663805056\n",
      "For c = 2.8, x =  0.924974881058581\n",
      "For c = 2.81, x =  0.9258477301615082\n",
      "For c = 2.82, x =  0.9267093925127465\n",
      "For c = 2.83, x =  0.9275600313397427\n",
      "For c = 2.84, x =  0.9283998071011161\n",
      "For c = 2.85, x =  0.9292288775412759\n",
      "For c = 2.86, x =  0.9300473977438112\n",
      "For c = 2.87, x =  0.9308555201836821\n",
      "For c = 2.88, x =  0.9316533947782424\n",
      "For c = 2.89, x =  0.9324411689371216\n",
      "For c = 2.9, x =  0.9332189876109966\n",
      "For c = 2.91, x =  0.9339869933392778\n",
      "For c = 2.92, x =  0.934745326296738\n",
      "For c = 2.93, x =  0.9354941243391094\n",
      "For c = 2.94, x =  0.9362335230476746\n",
      "For c = 2.95, x =  0.9369636557728748\n",
      "For c = 2.96, x =  0.9376846536769617\n",
      "For c = 2.97, x =  0.9383966457757144\n",
      "For c = 2.98, x =  0.9390997589792437\n",
      "For c = 2.99, x =  0.9397941181319098\n",
      "For c = 3.0, x =  0.9404798460513693\n"
     ]
    }
   ],
   "source": [
    "# Number 2\n",
    "\n",
    "x_0 = 1 # Again, x_0 is our guess for the starting point of the relaxation method.\n",
    "n = 1000000 # n is the amount of times the relaxation method is run. We set n here to be large so that the equation converges for all values of c.\n",
    "\n",
    "c = range(0, 301, 1) # We set up a range of values for c so that we can vary it later. We will divide this by 100 later to get the desired increments of 0.01.\n",
    "x = [] # We set up an empty array so store our values of x so that we can plot it easier later on.\n",
    "\n",
    "for i in c: # We set u a for loop to iterate over all the possible values of c.\n",
    "    x.append(relaxmethod(i/100, x_0, n)) # For every possible value of c, we calculate x using the relaxation method and store it in our array.\n",
    "    \n",
    "    # We print the value of x for every value of c using the following 2 lines.\n",
    "    \n",
    "    print(\"For c = \" + str(i/100) + \", x = \", end = \" \") # We print out the values of x for each value of c\n",
    "    print(relaxmethod(i/100, x_0, n))\n"
   ]
  },
  {
   "cell_type": "code",
   "execution_count": 6,
   "metadata": {},
   "outputs": [
    {
     "data": {
      "text/plain": [
       "Text(0, 0.5, 'x')"
      ]
     },
     "execution_count": 6,
     "metadata": {},
     "output_type": "execute_result"
    },
    {
     "data": {
      "image/png": "[encoded data removed]",
      "text/plain": [
       "<Figure size 640x480 with 1 Axes>"
      ]
     },
     "metadata": {},
     "output_type": "display_data"
    }
   ],
   "source": [
    "# Number 3\n",
    "\n",
    "# We import the packages we will need to graph.\n",
    "\n",
    "import matplotlib.pyplot as plt\n",
    "import matplotlib as mpl\n",
    "\n",
    "fig, ax = plt.subplots() # We set up a fig and axis.\n",
    "plot = ax.plot(c, x, marker = '.', color = 'b') # We plot the graph with c as the x-axis and the values of x as the y axis.\n",
    "mpl.rc('lines', linewidth=0.5, linestyle='-.') # We style our graph.\n",
    "\n",
    "# We attach labels to our graph.\n",
    "\n",
    "ax.set_title(\"Plot of solutions x against c\")\n",
    "ax.set_xlabel(\"c\")\n",
    "ax.set_ylabel(\"x\")"
   ]
  },
  {
   "cell_type": "markdown",
   "metadata": {
    "id": "BY5x-mZsYoqG"
   },
   "source": [
    "### PROBLEM 3\n",
    "\n",
    "**Physics Application: Calculating the Lagrange point**\n",
    "\n",
    "_Refer to Exercise 6.16 of the Newman text._ The $L_1$ Lagrange point is the point between the Earth and the Moon at which a satellite will orbit the Earth in perfect synchrony with the Moon, staying always in between the two.\n",
    "\n",
    "Assuming circular orbits, and assuming that the Earth is much more massive than either the Moon or the satellite, the distance $r$ from the center of the Earth to the $L_1$ point satisfies\n",
    "$$ \\begin{equation}\n",
    "\\frac{GM}{r^2} - \\frac{Gm}{(R-r)^2} = \\omega^2 r,\n",
    "\\end{equation} $$\n",
    "where $R$ is the distance from the Earth to the Moon, $M$ and $m$ are the Earth and Moon masses, $G$ is Newton's gravitational constant, and $\\omega$ is the angular velocity of both the Moon and the satellite."
   ]
  },
  {
   "cell_type": "markdown",
   "metadata": {
    "id": "LlDDXIZ46CKU"
   },
   "source": [
    "Use Newton's method to solve for the distance r from the Earth to the $L_1$ point. Compute a solution accurate to at least four significant figures."
   ]
  },
  {
   "cell_type": "code",
   "execution_count": 1,
   "metadata": {
    "id": "Jiu5YAx6aMmq"
   },
   "outputs": [
    {
     "name": "stdout",
     "output_type": "stream",
     "text": [
      "The root is at 326045071.66535544 meters after 100 iterations.\n"
     ]
    }
   ],
   "source": [
    "import numpy as np # We import numpy.\n",
    "\n",
    "# We initialize values for our constants.\n",
    "\n",
    "G = 6.674 * 10**(-11)\n",
    "M = 5.974 * 10**(24)\n",
    "m = 7.348 * 10**(22)\n",
    "w = 2.662 * 10**(-6)\n",
    "R = 3.844 * 10**(8)\n",
    "\n",
    "def f(r): # We define the given function f(r) that we will find the zeroes of. In this case we simply use the given function.\n",
    "    return (G*M)/(r**2) - (G*m)/(R-r)**2 - (w**2)*r\n",
    "\n",
    "def df(r): # We define the derivative of the above function.\n",
    "    return (-2*G*M)/(r**3) - (2*G*m)/(R-r)**3 - w**2\n",
    "\n",
    "def newtonsmethod(f, df, r_0, n): # We define a function newtonsmethod that finds the zeroes of a function for a given function f, its derivative df, r_0 is the initial guess point, and n is amount of trials.\n",
    "    for i in range(1, n): # We initiate a for loop that runs n times.\n",
    "        r_0 = r_0 - (f(r_0)/df(r_0)) # From the definition of Newton's Method, the result of each trial is the new test point r_0.\n",
    "    print(\"The root is at \" + str(r_0) + \" meters after \" + str(n) + \" iterations.\") # This prints the result.\n",
    "    \n",
    "newtonsmethod(f, df, 100000, 100)"
   ]
  },
  {
   "cell_type": "markdown",
   "metadata": {},
   "source": [
    "----------------\n",
    "### Instructor Notes\n",
    "\n",
    "Consider measuring accuracy even when not explicitly instructed. Compare it with actual Lagrange Point and you can even add a relative discussion of L$_1$ (it is 0.85 times the distance from the Earth to the Moon).\n"
   ]
  },
  {
   "cell_type": "code",
   "execution_count": null,
   "metadata": {},
   "outputs": [],
   "source": []
  }
 ],
 "metadata": {
  "colab": {
   "provenance": []
  },
  "kernelspec": {
   "display_name": "Python 3 (ipykernel)",
   "language": "python",
   "name": "python3"
  },
  "language_info": {
   "codemirror_mode": {
    "name": "ipython",
    "version": 3
   },
   "file_extension": ".py",
   "mimetype": "text/x-python",
   "name": "python",
   "nbconvert_exporter": "python",
   "pygments_lexer": "ipython3",
   "version": "3.9.12"
  },
  "toc": {
   "base_numbering": 1,
   "nav_menu": {},
   "number_sections": true,
   "sideBar": true,
   "skip_h1_title": false,
   "title_cell": "Table of Contents",
   "title_sidebar": "Contents",
   "toc_cell": false,
   "toc_position": {},
   "toc_section_display": true,
   "toc_window_display": false
  },
  "varInspector": {
   "cols": {
    "lenName": 16,
    "lenType": 16,
    "lenVar": 40
   },
   "kernels_config": {
    "python": {
     "delete_cmd_postfix": "",
     "delete_cmd_prefix": "del ",
     "library": "var_list.py",
     "varRefreshCmd": "print(var_dic_list())"
    },
    "r": {
     "delete_cmd_postfix": ") ",
     "delete_cmd_prefix": "rm(",
     "library": "var_list.r",
     "varRefreshCmd": "cat(var_dic_list()) "
    }
   },
   "types_to_exclude": [
    "module",
    "function",
    "builtin_function_or_method",
    "instance",
    "_Feature"
   ],
   "window_display": false
  }
 },
 "nbformat": 4,
 "nbformat_minor": 1
}
