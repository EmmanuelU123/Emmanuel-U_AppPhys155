{
 "cells": [
  {
   "cell_type": "markdown",
   "metadata": {
    "id": "G0BcK0H_G1Iu"
   },
   "source": [
    "# **AP155 Lab Assignment**\n",
    "## Module 1: Integrals and Derivatives\n",
    "\n",
    "_Instructions_: Answer each problem as completely as you can. Discuss **all** your answers as clearly and concisely as possible.\n",
    "\n",
    "_Scoring Criteria_: 50% - *correctness of code*; 50% - *discussion of the code and results*. Maximum score is **100 points**.\n",
    "\n",
    "\n"
   ]
  },
  {
   "cell_type": "markdown",
   "metadata": {
    "id": "PeHZ9kP8JaVR"
   },
   "source": [
    "### Student Information\n",
    "\n",
    "_Full Name (Last Name, First Name)_: U, Emmanuel\\\n",
    "_Student No._: 2020-11017\\\n",
    "_Section_: THU-HX-1"
   ]
  },
  {
   "cell_type": "markdown",
   "metadata": {
    "id": "Hc183co-J4eI"
   },
   "source": [
    "### Submission Information\n",
    "\n",
    "_Date and Time Submitted (most recent upload)_:\n",
    "\n",
    "**HONOR PLEDGE** I affirm that I have upheld the highest principles of honesty and integrity in my academic work and that this lab assignment is my own work.\n",
    "\n",
    "**Sign here with your full name:** Emmanuel Joseph Lee D.G. U"
   ]
  },
  {
   "cell_type": "markdown",
   "metadata": {
    "id": "X1UGsRpW-eQs"
   },
   "source": [
    "### Grading Information (c/o Lab Instructor)\n",
    "\n",
    "TOTAL SCORE: **95**/100\n",
    "\n",
    "Score breakdown:\n",
    "* Problem 1 - 27/30\n",
    "* Problem 2 - 28/30\n",
    "* Problem 3 - 39/40\n",
    "\n",
    "_Date and Time Scored (MM/DD/YYYY HH:MM AM/PM):_"
   ]
  },
  {
   "cell_type": "markdown",
   "metadata": {
    "id": "LxWuqiCFMsEh"
   },
   "source": [
    "### PROBLEM 1\n",
    "**Integration using the trapezoidal rule and Simpson's rule**\n",
    "\n",
    "Calculate the integral of the function $ 2x^4 + 3x^2 + 4x + 5$ from $x=0$ to $x=5$.\n",
    "\n",
    "1. Do the numerical calculation using the trapezoidal rule with 10, 100, and 1,000 slices. Describe each step of the calculation clearly and concisely. *(10 pts.)*\n",
    "\n",
    "2. What are the percentage errors of your answers in (1)? *(10 pts.)*\n",
    "\n",
    "3. Repeat the calculation using Simpson's rule with 10, 100, and 1,000 slices. Describe each step of the calculation clearly and concisely. *(5 pts.)*\n",
    "\n",
    "4. What are the percentage errors of your answers in (3)? How do they compare with the results from (1) for the same number of slices? *(5 pts.)*"
   ]
  },
  {
   "cell_type": "code",
   "execution_count": 74,
   "metadata": {
    "colab": {
     "base_uri": "https://localhost:8080/"
    },
    "id": "hMqWOsbIMoUh",
    "outputId": "f6964136-a8a5-45f0-dea8-8c17391d5531"
   },
   "outputs": [
    {
     "name": "stdout",
     "output_type": "stream",
     "text": [
      "Trapezoidal Rule Results: [1471.4375     1450.21458125 1450.00214583]\n"
     ]
    }
   ],
   "source": [
    "# Number 1\n",
    "\n",
    "import math\n",
    "import numpy as np\n",
    "\n",
    "# First, we define the function f(x) = 2x^4 + 3x^2 + 4x + 5 as a Python function so that we may call it easier in the future.\n",
    "\n",
    "def f(x):\n",
    "    return 2*x**4 + 3*x**2 + 4*x + 5\n",
    "\n",
    "# We then define some parameters we will need to perform the integration.\n",
    "\n",
    "a = 0 # a represents the starting point of the integration\n",
    "b = 5 # b represents the ending point of the integration]\n",
    "N = np.array([10, 100, 1000]) # N represents the amount of slices we will use in for the trapezoidal rule. Since we will test multiple values of N, we utilize a numpy array.\n",
    "\n",
    "# We then define a function that performs the integral using the trapezoidal rule for a given set of parameters.\n",
    "# We use the formula for the trapezoidal rule in Newman's \"Computational Physics\".\n",
    "# Input - A function f(x), a starting point a, an ending point b, and the number of slices n\n",
    "# Output - The integral of f(x) from a to b from the trapezoidal rule using the number of slices n\n",
    "\n",
    "def trapezoidal_integral(f, a, b, n):\n",
    "    h_1 = (b-a)/n # h_1 represents the width of each interval.\n",
    "\n",
    "    s_1 = h_1*(f(a)/2 + f(b)/2) # These are the first 2 terms of the trapezoidal rule.\n",
    "    for k in range (1, n):\n",
    "        s_1 += h_1*f(a + k*h_1) # These are the summation terms in the trapezoidal rule. Here, we use a for loop to calculate the summation.\n",
    "    return s_1\n",
    "\n",
    "# We may then use this function to define an array that contains the results of the integration using 10, 100, and 1000 slices.\n",
    "# The 1st, 2nd, and 3rd terms of the array reprsent the N = 10, N = 100, N = 1000 cases respectively. This will be the case for all arrays in this problem.\n",
    "\n",
    "results_trapezoidal = np.array([trapezoidal_integral(f, a, b, N[0]),\n",
    "            trapezoidal_integral(f, a, b, N[1]),\n",
    "            trapezoidal_integral(f, a, b, N[2])])\n",
    "\n",
    "print(\"Trapezoidal Rule Results: \" + str(results_trapezoidal))"
   ]
  },
  {
   "cell_type": "code",
   "execution_count": 75,
   "metadata": {
    "colab": {
     "base_uri": "https://localhost:8080/"
    },
    "id": "sLaS6JYzLXxj",
    "outputId": "c7e478f0-117a-4814-97a3-8829f52d9190"
   },
   "outputs": [
    {
     "name": "stdout",
     "output_type": "stream",
     "text": [
      "Trapezoidal Rule Percentage Errors: [1.47844828e-02 1.47987069e-04 1.47988491e-06]\n"
     ]
    }
   ],
   "source": [
    "# Number 2\n",
    "\n",
    "# Calculating the integral by hand, we find that the value of the integral is 1450. We may then use this value to calculate the percentage errors.\n",
    "\n",
    "# We define a function error(x) that calculates the percentage error of a value against 1450.\n",
    "\n",
    "def error(x):\n",
    "    err_1 = abs((1450 - x)/1450)\n",
    "    return err_1\n",
    "\n",
    "# We call the function error(x) on our previous array of results to create an array that gives the percentage error for each trial.\n",
    "\n",
    "Errors_trapezoidal = error(results_trapezoidal)\n",
    "\n",
    "print(\"Trapezoidal Rule Percentage Errors: \" + str(Errors_trapezoidal))"
   ]
  },
  {
   "cell_type": "code",
   "execution_count": 76,
   "metadata": {
    "colab": {
     "base_uri": "https://localhost:8080/"
    },
    "id": "173SWvAgLXxj",
    "outputId": "3dcc85ed-2632-416d-80a3-91094a0fd1f9"
   },
   "outputs": [
    {
     "name": "stdout",
     "output_type": "stream",
     "text": [
      "Simpson's Rule Results: [1450.08333333 1450.00000833 1450.        ]\n"
     ]
    }
   ],
   "source": [
    "# Number 3\n",
    "\n",
    "# We then define a function that performs the integral using Simpson's rule for a given set of parameters.\n",
    "# We refer to the formula for Simpson's rule found in Newman's \"Computational Physics\".\n",
    "# Input - A function f(x), a starting point a, an ending point b, and the number of slices n\n",
    "# Output - The integral of f(x) from a to b from Simpson's rule using the number of slices n\n",
    "\n",
    "def simpsons_integral(f, a, b, n):\n",
    "    h_2 = (b-a)/n # h_2 is the size of each interval.\n",
    "\n",
    "    s_2 = f(a)+f(b) # These are the first 2 terms in the Simpson's rule formula.\n",
    "    for k in range (1, n, 2): # Again, we use a for loop to calculate the summation. This is the summation for odd n from the formula.\n",
    "        s_2 += 4*f(a+k*h_2)\n",
    "    for k in range (2, n, 2): # This is the summation for even n from the formula.\n",
    "        s_2 += 2*f(a+k*h_2)\n",
    "    s_2 = (1/3)*h_2*s_2 # We multiply by some constants as per the formula.\n",
    "\n",
    "    return s_2\n",
    "\n",
    "# Again, take note of the results using an array.\n",
    "\n",
    "results_simpsons = np.array([simpsons_integral(f, a, b, N[0]),\n",
    "            simpsons_integral(f, a, b, N[1]),\n",
    "            simpsons_integral(f, a, b, N[2])])\n",
    "\n",
    "print(\"Simpson's Rule Results: \" + str(results_simpsons))"
   ]
  },
  {
   "cell_type": "code",
   "execution_count": 77,
   "metadata": {
    "colab": {
     "base_uri": "https://localhost:8080/"
    },
    "id": "frCPifiJLXxj",
    "outputId": "92d61cd8-edea-4267-beb2-ed1a4ab11ce6"
   },
   "outputs": [
    {
     "name": "stdout",
     "output_type": "stream",
     "text": [
      "Simpson's Rule Percentage Errors: [5.74712644e-05 5.74712666e-09 5.75176994e-13]\n"
     ]
    }
   ],
   "source": [
    "# Number 4\n",
    "\n",
    "# Using our error function from Number 2, we easily create an array for the percentage error from using Simpson's rule.\n",
    "\n",
    "Errors_simpsons = error(results_simpsons)\n",
    "\n",
    "print(\"Simpson's Rule Percentage Errors: \" + str(Errors_simpsons))\n",
    "\n",
    "# Simpson's Rule provides a far more accurate approximation compared to the trapezoidal rule.\n",
    "# The accuracy that Simpson's Rule provides is many orders of magnitude greater than the trapezoidal rule for the same number of slices."
   ]
  },
  {
   "cell_type": "markdown",
   "metadata": {},
   "source": [
    "----------------\n",
    "### Instructor Notes"
   ]
  },
  {
   "cell_type": "code",
   "execution_count": 2,
   "metadata": {
    "ExecuteTime": {
     "end_time": "2023-11-09T04:41:56.249718Z",
     "start_time": "2023-11-09T04:41:56.241157Z"
    }
   },
   "outputs": [
    {
     "name": "stdout",
     "output_type": "stream",
     "text": [
      "The exact answer is 1450\n"
     ]
    }
   ],
   "source": [
    "# You might want to include the exact answer calculation on your code\n",
    "\n",
    "def myfunc1(x):\n",
    "  return 2*x**4 + 3*x**2 + 4*x + 5\n",
    "\n",
    "def myfunc1_int(x):\n",
    "  return (2./5)*x**5 + x**3 + 2*x**2 + 5*x \n",
    "\n",
    "ans_exact = myfunc1_int(5)\n",
    "print(\"The exact answer is %d\" % ans_exact)"
   ]
  },
  {
   "cell_type": "markdown",
   "metadata": {},
   "source": [
    "Also, I recommend a summary of the percent errors placed side by side (uniformly in Scientific Notation) to easily convey the conclusion about which integration is more efficient than the other.\n",
    "\n",
    "---"
   ]
  },
  {
   "cell_type": "markdown",
   "metadata": {
    "id": "m2a6sg90R-NX"
   },
   "source": [
    "### PROBLEM 2\n",
    "\n",
    "**Integration using Gaussian quadrature**\n",
    "\n",
    "Calculate the integral from Problem 1 using the Gaussian quadrature method: $ 2x^4 + 3x^2 + 4x + 5$ from $x=0$ to $x=5$.\n",
    "\n",
    "1. Define the function $\\tt gaussxw$ from Appendix E of the Newman text (and run the cell). *(10 pts.)*\n",
    "\n",
    "2. Calculate the integral using the $\\tt gaussxw$ function in (1) and number of slices $N = 3$. Describe each step in the calculation clearly and concisely. *(20 pts.)*"
   ]
  },
  {
   "cell_type": "code",
   "execution_count": 78,
   "metadata": {
    "id": "YO_PDJ4VIVs5"
   },
   "outputs": [],
   "source": [
    "# Number 1\n",
    "\n",
    "# According to Appendix E, the Gaussian quadrature method can be defined with the function below.\n",
    "\n",
    "# Note: The following code is not mine (Including comments). It comes from Appendix E of Newman's \"Computational Physics\", as requested by the problem.\n",
    "\n",
    "from numpy import ones, copy, cos, tan, pi, linspace\n",
    "\n",
    "def gaussxw(N):\n",
    "    # Initial approximation to roots of the Legendre polynomial\n",
    "    a = linspace(3, 4*N-1, N)/(4*N+2)\n",
    "    x = cos(pi*a+1/(8*N*N*tan(a)))\n",
    "\n",
    "    # Find roots using Newton's method\n",
    "    epsilon = 1e-15\n",
    "    delta = 1.0\n",
    "    while delta>epsilon:\n",
    "        p0 = ones(N, float)\n",
    "        p1 = copy(x)\n",
    "        for k in range(1, N):\n",
    "            p0,p1 = p1,((2*k+1)*x*p1-k*p0)/(k+1)\n",
    "        dp = (N+1)*(p0-x*p1)/(1-x*x)\n",
    "        dx = p1/dp\n",
    "        x -= dx\n",
    "        delta = max(abs(dx))\n",
    "\n",
    "    # Calculate the weights\n",
    "    w = 2*(N+1)*(N+1)/(N*N*(1-x*x)*dp*dp)\n",
    "\n",
    "    return x, w\n",
    "\n",
    "def gaussxwab(N, a, b):\n",
    "    x, w = gaussxw(N)\n",
    "    return 0.5*(b-a)*x+0.5*(b+a), 0.5*(b-a)*w"
   ]
  },
  {
   "cell_type": "code",
   "execution_count": 79,
   "metadata": {
    "colab": {
     "base_uri": "https://localhost:8080/"
    },
    "id": "6EJIXpDqLXxk",
    "outputId": "bf04265b-db2c-4d86-9e0c-8354299fcb35"
   },
   "outputs": [
    {
     "name": "stdout",
     "output_type": "stream",
     "text": [
      "Gaussian Quadrature Method Results: 1450.000000000002\n"
     ]
    }
   ],
   "source": [
    "# Number 2\n",
    "\n",
    "# First, we define the parameters we will need to use the Gaussian quadrature method.\n",
    "\n",
    "N = 3 # N represents the number of slices, as given by the problem.\n",
    "a = 0 # a represents the starting point of the integration.\n",
    "b = 5 # b represents the ending point of the integration.\n",
    "\n",
    "# We then define the function f(x) that we are taking the integral of.\n",
    "\n",
    "def f(x):\n",
    "    return 2*x**4 + 3*x**2 + 4*x + 5\n",
    "\n",
    "# When computing an integral using the Gaussian quadrature method, we must first compute the sample points and weights.\n",
    "# After that, we may use Eq. (5.63) from Newman's \"Computational Physics\" to compute for the integral.\n",
    "# Let us define a Gaussian quadrature function using the gaussxw function from Number 1.\n",
    "\n",
    "def gauss_quad(N, f, a, b):\n",
    "    x, w = gaussxw(N) # This finds N pairs of sample points x and weights w through the gaussxw function.\n",
    "    xp = (1/2)*(b-a)*x + (1/2)*(b+a) # This rescales the x coordinate axis since it doesn't match the width of the original integral used to caluclate it.\n",
    "    wp = (1/2)*(b-a)*w # This rescales the weights as a result of the rescaling of the coordinate axis.\n",
    "\n",
    "    # We then take the sum from Eq. (5.63) using a for loop. We must first specify that s = 0 otherwise the line in the for loop cannot run.\n",
    "\n",
    "    s = 0\n",
    "    for k in range(N):\n",
    "        s += wp[k]*f(xp[k])\n",
    "\n",
    "    return s\n",
    "\n",
    "# We store the result of our integration in the variable results_gauss.\n",
    "\n",
    "results_gauss = gauss_quad(N, f, a, b)\n",
    "\n",
    "print(\"Gaussian Quadrature Method Results: \" + str(results_gauss))"
   ]
  },
  {
   "cell_type": "markdown",
   "metadata": {},
   "source": [
    "----------------\n",
    "### Instructor Notes\n",
    "\n",
    "1. In the future, you might use more of numpy packages than what was originally imported.  Hence, a usual route is to `import numpy as np` and use `np` as a default prefix. For example,\n",
    "\n",
    "\n",
    "`np.ones`, `np.copy`, `np.cos`, `np.tan`, `np.pi`, `np.linspace`\n",
    "\n",
    "2. The best way to discuss accuracy is through **actual calculation of the percent error.**\n",
    "\n",
    "---"
   ]
  },
  {
   "cell_type": "markdown",
   "metadata": {
    "id": "HceOjNu-VfN9"
   },
   "source": [
    "### PROBLEM 3\n",
    "\n",
    "**Physics Application: Anharmonic Oscillator**\n",
    "\n",
    "_Refer to Exercise 5.10 of the Newman text._ Consider an anharmonic oscillator with potential $V(x)$ symmetric about $x = 0$. Let us set our anharmonic oscillator going with amplitude $a$. That is, at $t = 0$ we release it from rest at position $x = a$ and it swings back towards the origin. Then at $t = 0$ we have $dx/dt = 0$ and the equation for its total energy becomes $E = V(a)$, i.e., the total energy of the particle is given in terms of the amplitude.\n",
    "\n",
    "When the particle reaches the origin for the first time, it has gone through one quarter of a period of the oscillator. The period $T$ is given by: $$ T = \\sqrt{8m} \\int_0^a \\frac{dx}{\\sqrt{V(a)-V(x)}}. $$\n",
    "\n",
    "1. Suppose the potential is $V(x) = x^4$ and the mass of the particle is $m = 1$. Write a Python function that calculates the period of the oscillator for given amplitude a using Gaussian quadrature with $N = 20$ points. Describe each step clearly and concisely. *(20 pts.)*\n",
    "\n",
    "2. Use your function to make a graph of the period for amplitudes ranging from $a = 0$ to $a = 2$. Describe the behavior you find and explain these results clearly and concisely. *(20 pts.)*"
   ]
  },
  {
   "cell_type": "code",
   "execution_count": 82,
   "metadata": {
    "colab": {
     "base_uri": "https://localhost:8080/"
    },
    "id": "zBDCKKJVLXxl",
    "outputId": "968ea383-74e9-4ae8-fd84-13f18438a142"
   },
   "outputs": [
    {
     "name": "stderr",
     "output_type": "stream",
     "text": [
      "<ipython-input-82-a6b6cdad6e6e>:18: RuntimeWarning: invalid value encountered in sqrt\n",
      "  return np.sqrt(8*m)/np.sqrt(a**4-x**4)\n"
     ]
    }
   ],
   "source": [
    "import numpy as np\n",
    "import math\n",
    "\n",
    "# Number 1\n",
    "\n",
    "# Let us begin by defining the parameters needed to perform the integration.\n",
    "# Notice how Number 2 is asking us for a graph of the period T against amplitude a. This tell us that we need to compute multiple integrals for a range of a so that\n",
    "# we have more data points to work with. We shall use the linspace function for this.\n",
    "\n",
    "m = 1 # m represents the mass of the particle.\n",
    "N = 20 # N represents the number of sample points used in the Gaussian Quadrature method.\n",
    "amp = linspace(0.1, 3, N) # We use the linspace function to get an array of N = 20 values of a from 0.1 to 3. This range can be replaced, I simply chose it arbitrarily.\n",
    "start = 0 # start represents the starting point of the integral.\n",
    "\n",
    "# We define the function inside of the given integral. We are given V(x) = x**4\n",
    "\n",
    "def f(x):\n",
    "  return np.sqrt(8*m)/np.sqrt(a**4-x**4)\n",
    "\n",
    "# We may then use a for loop in order to solve the integral for every value in our range of amplitudes a.\n",
    "# We store our data in an array labeled\n",
    "\n",
    "T = []\n",
    "for a in amp:\n",
    "  T.append(gauss_quad(N, f, start, amp))"
   ]
  },
  {
   "cell_type": "code",
   "execution_count": 83,
   "metadata": {
    "colab": {
     "base_uri": "https://localhost:8080/",
     "height": 472
    },
    "id": "p28JF-OQYock",
    "outputId": "e852ab93-e9fa-41da-c84d-fbd5982ac3b6"
   },
   "outputs": [
    {
     "data": {
      "image/png": "[encoded data removed]",
      "text/plain": [
       "<Figure size 640x480 with 1 Axes>"
      ]
     },
     "metadata": {},
     "output_type": "display_data"
    }
   ],
   "source": [
    "import matplotlib.pyplot as plt\n",
    "import matplotlib as mpl\n",
    "\n",
    "# Number 2\n",
    "\n",
    "# We now plot our data from the previous question.\n",
    "\n",
    "# In the case of a simple harmonic oscillator, period is independent of amplitude. A famous example of this is a guitar string. A guitar string will always vibrate\n",
    "# at the same frequency no matter how hard it is plucked. However, in the case of the anharmonic oscillator, specifically one with a potential of the form V(x) = x^4,\n",
    "# we observe an inverse relationship between amplitude and period.\n",
    "\n",
    "fig, ax = plt.subplots()\n",
    "plot = ax.plot(amp, T, marker = '.', color = 'b')\n",
    "mpl.rc('lines', linewidth=0.5, linestyle='-.')\n",
    "ax.set_title(\"Period vs Amplitude for an Anharmonic Oscillator\")\n",
    "ax.set_ylabel(\"Period (s)\")\n",
    "ax.set_xlabel(\"Amplitude (m)\")\n",
    "\n",
    "plt.show()"
   ]
  },
  {
   "cell_type": "markdown",
   "metadata": {},
   "source": [
    "----------------\n",
    "### Instructor Notes\n",
    "\n",
    "We find that the period $T$ decreases with increasing amplitude $a$ and diverges as the amplitude goes to zero. To better understand this, let us plot the potential $V(x) = x^4$:"
   ]
  },
  {
   "cell_type": "code",
   "execution_count": 3,
   "metadata": {
    "ExecuteTime": {
     "end_time": "2023-11-09T04:43:25.186892Z",
     "start_time": "2023-11-09T04:43:24.323645Z"
    }
   },
   "outputs": [
    {
     "data": {
      "text/plain": [
       "Text(0.5, 0, 'x')"
      ]
     },
     "execution_count": 3,
     "metadata": {},
     "output_type": "execute_result"
    },
    {
     "data": {
      "image/png": "[encoded data removed]",
      "text/plain": [
       "<Figure size 432x288 with 1 Axes>"
      ]
     },
     "metadata": {
      "needs_background": "light"
     },
     "output_type": "display_data"
    }
   ],
   "source": [
    "import matplotlib.pyplot as plt\n",
    "xx = np.linspace(-2,2)\n",
    "yy = xx**4\n",
    "\n",
    "plt.plot(xx, yy, 'k-')\n",
    "plt.axvline(0., color='k', ls=':')\n",
    "plt.ylabel(\"V(x)\")\n",
    "plt.xlabel(\"x\")"
   ]
  },
  {
   "cell_type": "markdown",
   "metadata": {},
   "source": [
    "We see that the potential is very close to flat near $x=0$ up to $x \\sim 0.5$. Starting at amplitudes smaller than 0.5 results in very slow motion and consequently a large period. We see this reflected in the period plot above, with the curve rising sharply towards $a=0$ starting around $a \\sim 0.5$.\n",
    "\n",
    "---"
   ]
  },
  {
   "cell_type": "markdown",
   "metadata": {},
   "source": [
    "## General Comments\n",
    "1. Find better ways to represent numerical results rather than printing it as it is. Take note of Significant Figures and Scientific Notation to effectively convey numbers in an organized manner.\n",
    "2. Feel free to go above and beyond, add extra plots, especially if it helps explain the Physics of the problem.\n",
    "3. The comments contained on the code hashtags should ideally be short phrases. If it's an entire sentence, place it on a separate markdown cell.\n",
    "4. Good job overall!"
   ]
  },
  {
   "cell_type": "code",
   "execution_count": null,
   "metadata": {},
   "outputs": [],
   "source": []
  }
 ],
 "metadata": {
  "colab": {
   "provenance": []
  },
  "kernelspec": {
   "display_name": "Python 3 (ipykernel)",
   "language": "python",
   "name": "python3"
  },
  "language_info": {
   "codemirror_mode": {
    "name": "ipython",
    "version": 3
   },
   "file_extension": ".py",
   "mimetype": "text/x-python",
   "name": "python",
   "nbconvert_exporter": "python",
   "pygments_lexer": "ipython3",
   "version": "3.9.12"
  },
  "toc": {
   "base_numbering": 1,
   "nav_menu": {},
   "number_sections": true,
   "sideBar": true,
   "skip_h1_title": false,
   "title_cell": "Table of Contents",
   "title_sidebar": "Contents",
   "toc_cell": false,
   "toc_position": {},
   "toc_section_display": true,
   "toc_window_display": false
  },
  "varInspector": {
   "cols": {
    "lenName": 16,
    "lenType": 16,
    "lenVar": 40
   },
   "kernels_config": {
    "python": {
     "delete_cmd_postfix": "",
     "delete_cmd_prefix": "del ",
     "library": "var_list.py",
     "varRefreshCmd": "print(var_dic_list())"
    },
    "r": {
     "delete_cmd_postfix": ") ",
     "delete_cmd_prefix": "rm(",
     "library": "var_list.r",
     "varRefreshCmd": "cat(var_dic_list()) "
    }
   },
   "types_to_exclude": [
    "module",
    "function",
    "builtin_function_or_method",
    "instance",
    "_Feature"
   ],
   "window_display": false
  }
 },
 "nbformat": 4,
 "nbformat_minor": 1
}
